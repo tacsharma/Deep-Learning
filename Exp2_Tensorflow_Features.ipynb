{
 "cells": [
  {
   "cell_type": "markdown",
   "metadata": {
    "id": "HASXcHyA07nL"
   },
   "source": [
    "INTRODUCTION TO TENSORFLOW 2.0\n",
    "\n",
    "There are tons of new features for Tensorflow 2.0, here we will introduce 4 of them:\n",
    "\n",
    "FEATURE #1: EAGER EXECUTION BY DEFAULT\n",
    "\n",
    "FEATURE #2: KERAS IS THE DEFAULT API (EASIER THAN EVER TO BUILD, TRAIN AND DEBUG MODELS)\n",
    "\n",
    "FEATURE #3: TENSORBOARD\n",
    "\n",
    "FEATURE #4: DISTRIBUTED STRATEGY"
   ]
  },
  {
   "cell_type": "markdown",
   "metadata": {
    "id": "OMtE9TqtJsBH"
   },
   "source": [
    "# 1. FEATURE #1: EAGER EXECUTION BY DEFAULT"
   ]
  },
  {
   "cell_type": "markdown",
   "metadata": {
    "id": "A_hhN6lRK7wp"
   },
   "source": [
    "- Tensorflow now enables eager execution by default!\n",
    "- Tensorflow now has eager execution by default which means you can evaluate operations immediately \n",
    "- This will make your life 10 times easier when you build and debug your AI model. \n",
    "- Eager execution means that you can now interact with TF 2.0 line by line in google colab or jupyter notebook without the need to define a graph and run sessions and all the mess we had with tensorflow 1.0.\n"
   ]
  },
  {
   "cell_type": "markdown",
   "metadata": {
    "id": "NspMRqkgsYHE"
   },
   "source": [
    "# 2. FEATURE #2: KERAS IS THE DEFAULT API (EASIER THAN EVER TO TRAIN AND DEBUG) \n"
   ]
  },
  {
   "cell_type": "markdown",
   "metadata": {
    "id": "MlYwVdqALF_y"
   },
   "source": [
    "- The second important feature in TF 2.0 is the use of keras as the high level API by default \n",
    "- Keras is unbelievably easy to work with! \n",
    "- Keras syntax is very pythonic and for those of you who have worked with Python before will know that python language is super easy to learn!\n",
    "- Let's build a mini artificial neural network that can classify fashion images using keras API. "
   ]
  },
  {
   "cell_type": "markdown",
   "metadata": {
    "id": "FRCJsDm7KMhR"
   },
   "source": [
    "# *LET'S TRAIN A MINI NETWORK FOR IMAGE CLASSIFICATION USING TF 2.0 AND KERAS API*"
   ]
  },
  {
   "cell_type": "code",
   "execution_count": 1,
   "metadata": {
    "colab": {
     "base_uri": "https://localhost:8080/"
    },
    "id": "INb24nCpsWOw",
    "outputId": "66c81a95-8345-44ea-f48b-1ae37da88cc9"
   },
   "outputs": [],
   "source": [
    "import tensorflow as tf\n",
    "config = tf.compat.v1.ConfigProto()\n",
    "config.gpu_options.allow_growth = True\n",
    "sess = tf.compat.v1.Session(config=config)\n",
    "fashion_mnist = tf.keras.datasets.fashion_mnist\n",
    "\n",
    "(train_images, train_labels), (test_images, test_labels) = fashion_mnist.load_data()"
   ]
  },
  {
   "cell_type": "code",
   "execution_count": 2,
   "metadata": {
    "id": "2RJGYJxLsWD7"
   },
   "outputs": [],
   "source": [
    "model = tf.keras.Sequential([\n",
    "    tf.keras.layers.Flatten(input_shape=(28, 28)),\n",
    "    tf.keras.layers.Dense(128, activation=tf.nn.relu),\n",
    "    tf.keras.layers.Dense(10, activation=tf.nn.softmax)\n",
    "])"
   ]
  },
  {
   "cell_type": "code",
   "execution_count": 3,
   "metadata": {
    "id": "nsTLNStMsnHj"
   },
   "outputs": [],
   "source": [
    "model.compile(optimizer='adam',\n",
    "              loss='sparse_categorical_crossentropy',\n",
    "              metrics=['accuracy'])"
   ]
  },
  {
   "cell_type": "code",
   "execution_count": 4,
   "metadata": {
    "colab": {
     "base_uri": "https://localhost:8080/"
    },
    "id": "D6o4XVlxsozr",
    "outputId": "952dd52b-a4e4-4437-f946-40dde577f972"
   },
   "outputs": [
    {
     "name": "stdout",
     "output_type": "stream",
     "text": [
      "Epoch 1/5\n",
      "1875/1875 [==============================] - 2s 844us/step - loss: 9.9614 - accuracy: 0.6414\n",
      "Epoch 2/5\n",
      "1875/1875 [==============================] - 2s 856us/step - loss: 0.8153 - accuracy: 0.7113\n",
      "Epoch 3/5\n",
      "1875/1875 [==============================] - 1s 792us/step - loss: 0.6257 - accuracy: 0.7881\n",
      "Epoch 4/5\n",
      "1875/1875 [==============================] - 2s 818us/step - loss: 0.5391 - accuracy: 0.8142\n",
      "Epoch 5/5\n",
      "1875/1875 [==============================] - 1s 772us/step - loss: 0.5057 - accuracy: 0.8278\n"
     ]
    },
    {
     "data": {
      "text/plain": [
       "<tensorflow.python.keras.callbacks.History at 0x7f4d941ac910>"
      ]
     },
     "execution_count": 4,
     "metadata": {},
     "output_type": "execute_result"
    }
   ],
   "source": [
    "model.fit(train_images, train_labels, epochs=5)\n"
   ]
  },
  {
   "cell_type": "markdown",
   "metadata": {
    "id": "9e1aCm2QuRJg"
   },
   "source": [
    "# 3. FEATURE #3: TENSORBOARD"
   ]
  },
  {
   "cell_type": "markdown",
   "metadata": {
    "id": "BWgYbt1FQ6Dl"
   },
   "source": [
    "- Tensorboard enable us to track the network progress such as accuracy and loss throughout various epochs along with the graph showing various layers of the network which is pretty incredible!\n",
    "- In addition, tensorboard provides a built-in performance dashboard that can be used to track device placement and help us minimize bottlenecks during model execution and training. \n",
    "Let me show you how to launch tensorboard and how it works: \n"
   ]
  },
  {
   "cell_type": "markdown",
   "metadata": {
    "id": "o4Eu3C5m3dX2"
   },
   "source": [
    "## **3.1 EXAMPLE #1**"
   ]
  },
  {
   "cell_type": "code",
   "execution_count": 11,
   "metadata": {
    "colab": {
     "base_uri": "https://localhost:8080/"
    },
    "id": "YcpCVlus5u9I",
    "outputId": "3df64f6d-8573-4b6c-b391-89d399d1e477"
   },
   "outputs": [
    {
     "name": "stdout",
     "output_type": "stream",
     "text": [
      "Epoch 1/5\n",
      "1875/1875 [==============================] - 4s 2ms/step - loss: 9.2046 - accuracy: 0.6737\n",
      "Epoch 2/5\n",
      "1875/1875 [==============================] - 4s 2ms/step - loss: 0.6919 - accuracy: 0.7355\n",
      "Epoch 3/5\n",
      "1875/1875 [==============================] - 4s 2ms/step - loss: 0.6025 - accuracy: 0.7717\n",
      "Epoch 4/5\n",
      "1875/1875 [==============================] - 4s 2ms/step - loss: 0.5437 - accuracy: 0.8088\n",
      "Epoch 5/5\n",
      "1875/1875 [==============================] - 4s 2ms/step - loss: 0.5047 - accuracy: 0.8205\n"
     ]
    },
    {
     "data": {
      "text/plain": [
       "<tensorflow.python.keras.callbacks.History at 0x7fc23dd4b240>"
      ]
     },
     "execution_count": 11,
     "metadata": {
      "tags": []
     },
     "output_type": "execute_result"
    }
   ],
   "source": [
    "fashion_mnist = tf.keras.datasets.fashion_mnist\n",
    "\n",
    "\n",
    "(train_images, train_labels), (test_images, test_labels) = fashion_mnist.load_data()\n",
    "\n",
    "\n",
    "model = tf.keras.Sequential([\n",
    "    tf.keras.layers.Flatten(input_shape=(28, 28)),\n",
    "    tf.keras.layers.Dense(128, activation=tf.nn.relu),\n",
    "    tf.keras.layers.Dense(10, activation=tf.nn.softmax)\n",
    "])\n",
    "\n",
    "\n",
    "model.compile(optimizer='adam',\n",
    "              loss='sparse_categorical_crossentropy',\n",
    "              metrics=['accuracy'])\n",
    "\n",
    "\n",
    "\n",
    "\n",
    "model.fit(train_images, train_labels, epochs=5)\n"
   ]
  },
  {
   "cell_type": "markdown",
   "metadata": {},
   "source": [
    "# *3.2 EXAMPLE #2*"
   ]
  },
  {
   "cell_type": "code",
   "execution_count": null,
   "metadata": {},
   "outputs": [],
   "source": [
    "fashion_mnist = tf.keras.datasets.fashion_mnist\n",
    "\n",
    "\n",
    "(train_images, train_labels), (test_images, test_labels) = fashion_mnist.load_data()\n",
    "\n",
    "\n",
    "# Reshape training data to be = (60000, 28, 28, 1) instead of (60000, 28,28)\n",
    "train_images = train_images.reshape(60000, 28, 28, 1)\n",
    "test_images = test_images.reshape(10000, 28, 28, 1)\n",
    "\n",
    "\n",
    "from tensorflow.keras import datasets, layers, models\n",
    "\n",
    "model = models.Sequential()\n",
    "\n",
    "model.add(layers.Conv2D(6, (5,5), activation = 'relu', input_shape = (28,28,1)))\n",
    "model.add(layers.AveragePooling2D())\n",
    "\n",
    "\n",
    "model.add(layers.Conv2D(16, (5,5), activation = 'relu'))\n",
    "model.add(layers.AveragePooling2D())\n",
    "\n",
    "model.add(layers.Flatten())\n",
    "\n",
    "model.add(layers.Dense(120, activation = 'relu'))\n",
    "\n",
    "model.add(layers.Dense(84, activation = 'relu'))\n",
    "\n",
    "model.add(layers.Dense(10, activation = 'softmax'))\n",
    "model.summary()\n",
    "\n",
    "\n",
    "\n",
    "model.compile(optimizer='adam',\n",
    "              loss='sparse_categorical_crossentropy',\n",
    "              metrics=['accuracy'])\n",
    "\n",
    "\n",
    "\n",
    "\n",
    "\n",
    "model.fit(train_images, train_labels, epochs=5)\n"
   ]
  },
  {
   "cell_type": "markdown",
   "metadata": {
    "id": "7RQdpLe9FzPU"
   },
   "source": [
    "# 4. FEATURE #4: DISTRIBUTED STRATEGY "
   ]
  },
  {
   "cell_type": "markdown",
   "metadata": {
    "id": "J0i0IhTNTVxV"
   },
   "source": [
    "- Tensorflow enables distributed strategy which allows developers to develop the model once and then decide how do they want to run it, over multiple GPUs or TPUs. \n",
    "- This will dramatically improve the computational efficiency with just two additional lines of code\n"
   ]
  },
  {
   "cell_type": "code",
   "execution_count": null,
   "metadata": {
    "colab": {
     "base_uri": "https://localhost:8080/",
     "height": 34
    },
    "id": "dOkwMjgRFzIo",
    "outputId": "8d48331a-fb7e-43cf-dcea-a1ca2bd4d1fc"
   },
   "outputs": [
    {
     "name": "stdout",
     "output_type": "stream",
     "text": [
      "INFO:tensorflow:Using MirroredStrategy with devices ('/job:localhost/replica:0/task:0/device:GPU:0',)\n"
     ]
    }
   ],
   "source": [
    "import tensorflow as tf\n",
    "import datetime\n",
    "\n",
    "fashion_mnist = tf.keras.datasets.fashion_mnist\n",
    "\n",
    "(train_images, train_labels), (test_images, test_labels) = fashion_mnist.load_data()\n",
    "\n",
    "\n",
    "strategy = tf.distribute.MirroredStrategy()\n",
    "\n",
    "with strategy.scope():\n",
    "  model = tf.keras.Sequential([\n",
    "    tf.keras.layers.Flatten(input_shape=(28, 28)),\n",
    "    tf.keras.layers.Dense(128, activation=tf.nn.relu),\n",
    "    tf.keras.layers.Dense(10, activation=tf.nn.softmax)\n",
    "    ])\n",
    "\n",
    "\n",
    "  model.compile(optimizer='adam',\n",
    "              loss='sparse_categorical_crossentropy',\n",
    "              metrics=['accuracy'])"
   ]
  },
  {
   "cell_type": "code",
   "execution_count": null,
   "metadata": {
    "colab": {
     "base_uri": "https://localhost:8080/",
     "height": 347
    },
    "id": "qCz6tmHhT2HN",
    "outputId": "ff3ead12-1f3e-4c26-eb4f-468f5b3a955d"
   },
   "outputs": [
    {
     "name": "stdout",
     "output_type": "stream",
     "text": [
      "Epoch 1/5\n",
      "INFO:tensorflow:Reduce to /job:localhost/replica:0/task:0/device:CPU:0 then broadcast to ('/job:localhost/replica:0/task:0/device:CPU:0',).\n",
      "INFO:tensorflow:Reduce to /job:localhost/replica:0/task:0/device:CPU:0 then broadcast to ('/job:localhost/replica:0/task:0/device:CPU:0',).\n",
      "INFO:tensorflow:Reduce to /job:localhost/replica:0/task:0/device:CPU:0 then broadcast to ('/job:localhost/replica:0/task:0/device:CPU:0',).\n",
      "INFO:tensorflow:Reduce to /job:localhost/replica:0/task:0/device:CPU:0 then broadcast to ('/job:localhost/replica:0/task:0/device:CPU:0',).\n",
      "INFO:tensorflow:Reduce to /job:localhost/replica:0/task:0/device:CPU:0 then broadcast to ('/job:localhost/replica:0/task:0/device:CPU:0',).\n",
      "INFO:tensorflow:Reduce to /job:localhost/replica:0/task:0/device:CPU:0 then broadcast to ('/job:localhost/replica:0/task:0/device:CPU:0',).\n",
      "INFO:tensorflow:Reduce to /job:localhost/replica:0/task:0/device:CPU:0 then broadcast to ('/job:localhost/replica:0/task:0/device:CPU:0',).\n",
      "INFO:tensorflow:Reduce to /job:localhost/replica:0/task:0/device:CPU:0 then broadcast to ('/job:localhost/replica:0/task:0/device:CPU:0',).\n",
      "1875/1875 [==============================] - 5s 3ms/step - loss: 2.6532 - accuracy: 0.6858\n",
      "Epoch 2/5\n",
      "1875/1875 [==============================] - 5s 3ms/step - loss: 0.6215 - accuracy: 0.7742\n",
      "Epoch 3/5\n",
      "1875/1875 [==============================] - 5s 3ms/step - loss: 0.5332 - accuracy: 0.8112\n",
      "Epoch 4/5\n",
      "1875/1875 [==============================] - 5s 3ms/step - loss: 0.5179 - accuracy: 0.8193\n",
      "Epoch 5/5\n",
      "1875/1875 [==============================] - 5s 3ms/step - loss: 0.5034 - accuracy: 0.8245\n"
     ]
    },
    {
     "data": {
      "text/plain": [
       "<tensorflow.python.keras.callbacks.History at 0x7f5d9eed0400>"
      ]
     },
     "execution_count": 17,
     "metadata": {
      "tags": []
     },
     "output_type": "execute_result"
    }
   ],
   "source": [
    "model.fit(train_images, train_labels, epochs=5)"
   ]
  },
  {
   "cell_type": "code",
   "execution_count": null,
   "metadata": {},
   "outputs": [],
   "source": []
  },
  {
   "cell_type": "code",
   "execution_count": null,
   "metadata": {},
   "outputs": [],
   "source": []
  }
 ],
 "metadata": {
  "colab": {
   "name": "TF2Features.ipynb",
   "provenance": []
  },
  "kernelspec": {
   "display_name": "Python 3",
   "language": "python",
   "name": "python3"
  },
  "language_info": {
   "codemirror_mode": {
    "name": "ipython",
    "version": 3
   },
   "file_extension": ".py",
   "mimetype": "text/x-python",
   "name": "python",
   "nbconvert_exporter": "python",
   "pygments_lexer": "ipython3",
   "version": "3.8.5"
  }
 },
 "nbformat": 4,
 "nbformat_minor": 1
}
